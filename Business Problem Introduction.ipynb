{
 "cells": [
  {
   "cell_type": "markdown",
   "metadata": {},
   "source": [
    "#### <font color=blue>Introduction/Business Problem</font>\n",
    "\n",
    "**Background:**  \n",
    "An important step in opening an business is zeroing on its location; the revenue of a business is highly correlated to how good its location is - businesses located highly close to each other have to split potential revenue while businesses located very remotely suffer in the other direction. So it would be essential to identify potential areas that would be promising in terms of revenue it could generate from customers. \n",
    "\n",
    "#### Clustering of Businesses\n",
    "It is generally observed that businesses open shop closeby, contrary to general reasoning that it could hurt customer turnout. Such clustering phenomenon though is explained by Game Theory when you have commodities which are reasonably interchangable, such as retailers.\n",
    "  \n",
    "Consider a retailer/business that has a monopoly. It could simply open shop at its location of choice and force customers to reached out for them. However, the threat of competition forces stores to try to determine a location that captures maximum market share. In other words, they want to be in central location for their target audience, minimizing the distance consumers have to travel. In the mean time, all competing businesses are simultaneously making the same decision which means the resulting stores end up clustered together.\n",
    "  \n",
    "If a retailer opens a new location away from the current clustering, there are two potential results:\n",
    "1. It will fail to capture enough consumers and eventually close.\n",
    "2. It will become successful causing competitive stores to locate nearby.\n",
    "\n",
    "Either way, clustering remains the norm. Such a behaviour is sometimes explained in economics using Nash Equilibruim"
   ]
  },
  {
   "cell_type": "markdown",
   "metadata": {},
   "source": [
    "<img src=\"https://img.grouponcdn.com/seocms/9qgBTG472GYgj88p1JvhRT/foods-600x390\">"
   ]
  },
  {
   "cell_type": "markdown",
   "metadata": {},
   "source": [
    "**Problem: Identify Restaurent Location based on Cuisine**  \n",
    "Identify restaurents according to cuisines with most footfall in the city, in our case,  ``London`` and cluster the neighbourhoods accordingly to identify where the one could open silimar restaurents. \n",
    "\n",
    "**Target Audience**  \n",
    "Restaurents wanting to open up in areas where demand is high could make use of the conclusions from the report. On the other hand, if the business had an approach to avoid areas where there are already serving large number of customers and instead focus on areas outside the high footall areas may instead avoid these areas when considering to open a new business. \n",
    "\n",
    "**Approach**  \n",
    "1. Identify restaurent cuisines and cluster them according to neighbourhoods(Bouroughs) in London. This would give an idea where the most popular cuisines are populated.\n",
    "2. Identify the type of customers one can expect using land prices as a proxy. If one has multiple boroughs with the same cuisine being popular, this would help them cater to niche customers."
   ]
  },
  {
   "cell_type": "code",
   "execution_count": null,
   "metadata": {},
   "outputs": [],
   "source": []
  }
 ],
 "metadata": {
  "kernelspec": {
   "display_name": "Python 3",
   "language": "python",
   "name": "python3"
  },
  "language_info": {
   "codemirror_mode": {
    "name": "ipython",
    "version": 3
   },
   "file_extension": ".py",
   "mimetype": "text/x-python",
   "name": "python",
   "nbconvert_exporter": "python",
   "pygments_lexer": "ipython3",
   "version": "3.7.3"
  }
 },
 "nbformat": 4,
 "nbformat_minor": 2
}
