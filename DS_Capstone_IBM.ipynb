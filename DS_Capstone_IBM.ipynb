{
 "cells": [
  {
   "cell_type": "markdown",
   "metadata": {},
   "source": [
    "#### <font color=red>IBM Data Science Capstone</font>\n",
    "This notebook will be used to develop the project for the final course in the IBM Data Science Certification."
   ]
  },
  {
   "cell_type": "markdown",
   "metadata": {},
   "source": [
    "#### <font color=blue>Introduction/Business Problem</font>\n",
    "\n",
    "Identify businesses with most footfall in the city of London and cluster the neighbourhoods accordingly to identify where the contractors could open certain businesses accordingly. Businesses wanting to open up in areas where demand is high could make use of the conclusions from the report. On the other hand, if the business had an approach to avoid areas where there are already serving large number of customers and instead focus on areas outside the high footall areas may instead avoid these areas when considering to open a new business. "
   ]
  },
  {
   "cell_type": "markdown",
   "metadata": {},
   "source": [
    "#### <font color=blue>Data Section</font>\n",
    "The data to identify the neighborhoods in London can be scrapped from wikipedia \"https://en.wikipedia.org/wiki/List_of_London_boroughs\" to retrieve the respective boroughs and their Coordinates. Those coordinates will be later used to build a list of business within a certain radius from it and fed into the Foursquare API to get the details of number so customers to visit them. The frequency of visits will be calculated and the boroughs will be clustered according to algorithms to identify the boroughs with high demand for certain businesses. "
   ]
  },
  {
   "cell_type": "code",
   "execution_count": null,
   "metadata": {},
   "outputs": [],
   "source": []
  }
 ],
 "metadata": {
  "kernelspec": {
   "display_name": "Python 3",
   "language": "python",
   "name": "python3"
  },
  "language_info": {
   "codemirror_mode": {
    "name": "ipython",
    "version": 3
   },
   "file_extension": ".py",
   "mimetype": "text/x-python",
   "name": "python",
   "nbconvert_exporter": "python",
   "pygments_lexer": "ipython3",
   "version": "3.7.3"
  }
 },
 "nbformat": 4,
 "nbformat_minor": 2
}
